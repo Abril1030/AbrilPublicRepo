{
 "cells": [
  {
   "cell_type": "markdown",
   "metadata": {
    "collapsed": true
   },
   "source": [
    "# My First Jupyter Notebook on IBM Watson Studio"
   ]
  },
  {
   "cell_type": "markdown",
   "metadata": {},
   "source": [
    "**Juan Carlos Abril Ramírez**\n",
    "\n",
    "My current occupation is Laboratory Technician and my desired occupation is being a Data Scientist"
   ]
  },
  {
   "cell_type": "markdown",
   "metadata": {},
   "source": [
    "*I'm interested in Data Science because I'm curious and fixated about managing and organizing any kind of data. I also visualize myself as a Data Scientist for the film, videogame or any media industry, so I'm passionate about learning everything there is about it.*"
   ]
  },
  {
   "cell_type": "markdown",
   "metadata": {},
   "source": [
    "### My code explains how to use some basic math operations in Python"
   ]
  },
  {
   "cell_type": "code",
   "execution_count": 1,
   "metadata": {},
   "outputs": [
    {
     "name": "stdout",
     "output_type": "stream",
     "text": [
      "Addition: 1+1= 2 Substraction: 2-1= 1 Multiplication: 3*2= 6 Division: 3/1= 3.0\n"
     ]
    }
   ],
   "source": [
    "One = 1\n",
    "Two = 2\n",
    "Three = 3\n",
    "AddResult = One + One\n",
    "SubResult = Two - One\n",
    "MulResult = Three * Two\n",
    "DivResult = Three / One\n",
    "print(\"Addition: 1+1=\",AddResult,\"Substraction: 2-1=\",SubResult,\"Multiplication: 3*2=\",MulResult,\"Division: 3/1=\",DivResult)"
   ]
  },
  {
   "cell_type": "markdown",
   "metadata": {},
   "source": [
    "**********************\n",
    "\n",
    "\n",
    "| Juan          | Carlos        | Abril   |\n",
    "|:-------------:|:-------------:|:-------:|\n",
    "| Data          | Science       | Student |\n",
    "| IBM           | Watson        | Studio  |\n",
    "\n",
    "![Image](https://raw.githubusercontent.com/Abril1030/AbrilPublicRepo/main/Pink%20Floyd.jpg \"Pink Floyd Pyramid\")"
   ]
  },
  {
   "cell_type": "code",
   "execution_count": null,
   "metadata": {},
   "outputs": [],
   "source": []
  }
 ],
 "metadata": {
  "kernelspec": {
   "display_name": "Python 3.9",
   "language": "python",
   "name": "python3"
  },
  "language_info": {
   "codemirror_mode": {
    "name": "ipython",
    "version": 3
   },
   "file_extension": ".py",
   "mimetype": "text/x-python",
   "name": "python",
   "nbconvert_exporter": "python",
   "pygments_lexer": "ipython3",
   "version": "3.9.12"
  }
 },
 "nbformat": 4,
 "nbformat_minor": 1
}
