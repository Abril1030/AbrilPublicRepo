{
  "nbformat": 4,
  "nbformat_minor": 0,
  "metadata": {
    "colab": {
      "provenance": [],
      "authorship_tag": "ABX9TyPONN9ZEMiYhmJoPaysjUcQ",
      "include_colab_link": true
    },
    "kernelspec": {
      "name": "python3",
      "display_name": "Python 3"
    },
    "language_info": {
      "name": "python"
    }
  },
  "cells": [
    {
      "cell_type": "markdown",
      "metadata": {
        "id": "view-in-github",
        "colab_type": "text"
      },
      "source": [
        "<a href=\"https://colab.research.google.com/github/Abril1030/AbrilPublicRepo/blob/main/Bloque_ETL.ipynb\" target=\"_parent\"><img src=\"https://colab.research.google.com/assets/colab-badge.svg\" alt=\"Open In Colab\"/></a>"
      ]
    },
    {
      "cell_type": "code",
      "source": [
        "Archivo = 'PRESION_NO_ALIN_V2.xlsx' #Carga el excel\n",
        "Diccionario = pd.read_excel(Archivo, sheet_name=None) #Guarda todos los registros en un diccionario :) Los nombres de los libros están entre ''"
      ],
      "metadata": {
        "id": "r4yJcZPXDy4u"
      },
      "execution_count": 8,
      "outputs": []
    },
    {
      "cell_type": "code",
      "source": [
        "Sujetos = Diccionario.get('SUJETOS') #Separa los elementos del diccionario y los guarda en un dataframe :3\n",
        "Sujetos #Ejemplo para mostrar como se ve el output"
      ],
      "metadata": {
        "id": "cSRuzF19PkJY"
      },
      "execution_count": null,
      "outputs": []
    },
    {
      "cell_type": "code",
      "source": [
        "Alineacion1 = Diccionario.get('ALIN1')\n",
        "Alineacion2 = Diccionario.get('ALIN2')\n",
        "Alineacion4 = Diccionario.get('ALIN4')\n",
        "F21 = Diccionario.get('F21')\n",
        "F22 = Diccionario.get('F22')\n",
        "F24 = Diccionario.get('F24')\n",
        "F61 = Diccionario.get('F61')\n",
        "F62 = Diccionario.get('F62')\n",
        "F64 = Diccionario.get('F64')\n",
        "E21 = Diccionario.get('E21')\n",
        "E22 = Diccionario.get('E22')\n",
        "E24 = Diccionario.get('E24')\n",
        "E61 = Diccionario.get('E61')\n",
        "E62 = Diccionario.get('E62')\n",
        "E64 = Diccionario.get('E64')\n",
        "AB21 = Diccionario.get('AB21')\n",
        "AB22 = Diccionario.get('AB22')\n",
        "AB24 = Diccionario.get('AB24')\n",
        "AB61 = Diccionario.get('AB61')\n",
        "AB62 = Diccionario.get('AB62')\n",
        "AB64 = Diccionario.get('AB64')\n",
        "AD21 = Diccionario.get('AD21')\n",
        "AD22 = Diccionario.get('AD22')\n",
        "AD24 = Diccionario.get('AD24')\n",
        "AD61 = Diccionario.get('AD61')\n",
        "AD62 = Diccionario.get('AD62')\n",
        "AD64 = Diccionario.get('AD64')"
      ],
      "metadata": {
        "id": "eUrjOIzBQ0pz"
      },
      "execution_count": 12,
      "outputs": []
    }
  ]
}